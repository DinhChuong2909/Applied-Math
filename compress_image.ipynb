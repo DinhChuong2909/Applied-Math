{
 "cells": [
  {
   "cell_type": "code",
   "execution_count": 5,
   "id": "1594fa6a",
   "metadata": {},
   "outputs": [],
   "source": [
    "import numpy as np\n",
    "import matplotlib.pyplot as plt\n",
    "from PIL import Image\n"
   ]
  },
  {
   "cell_type": "code",
   "execution_count": null,
   "id": "150ce8b0",
   "metadata": {},
   "outputs": [],
   "source": [
    "class KMeans():\n",
    "    def __init__(self, k_clusters, max_loop,init_centroids):\n",
    "        self.k = k_clusters\n",
    "        self.max_loop = max_loop\n",
    "        self.all_centroids = []\n",
    "        self.all_labels = []\n",
    "        self.init_centroids = init_centroids\n",
    "    def find(self,img):\n",
    "        h_shape = img.shape[1]\n",
    "        if self.init_centroids == \"random\":\n",
    "            centroids = np.random.randint(255, size=(self.k, h_shape))\n",
    "        if self.init_centroids == \"in_pixels\":\n",
    "            centroids_list = []\n",
    "            tmp = np.random.randint(img.shape[0]/3, size=(self.k))\n",
    "            for i in range(self.k):\n",
    "                centroids_list.append(tmp[i])\n",
    "                centroids = np.array(centroids_list)\n",
    "            centroids = centroid.reshape(3,3)\n",
    "                \n",
    "        self.all_centroids.append(centroids)\n",
    "        \n",
    "        loop = 0\n",
    "        old_centroids = None\n",
    "        while not self.stopp(loop,old_centroids,centroids):\n",
    "            loop += 1\n",
    "            old_centroids = centroids\n",
    "            \n",
    "            labels = self.get_labels(centroids,img)\n",
    "            self.all_labels.append(labels)\n",
    "            \n",
    "            #print('0ld centroids: ', centroids)\n",
    "            centroids = self.get_centroids(img,labels)\n",
    "            #print('new centroids: ', centroids)\n",
    "            self.all_centroids.append(centroids)\n",
    "        \n",
    "        centroids = np.floor(centroids)\n",
    "        return centroids,labels\n",
    "        \n",
    "    def stopp(self,loop,old_centroids,centroids):\n",
    "        if (loop > self.max_loop):\n",
    "            return True\n",
    "        return (np.all(old_centroids == centroids))\n",
    "         \n",
    "    def get_labels(self,centroids,img):\n",
    "        labels = []\n",
    "        for row in img:\n",
    "            distances = np.sum((row-centroids)**2, axis=1)\n",
    "            label = np.argmin(distances)\n",
    "            labels.append(label)\n",
    "        return labels\n",
    "    \n",
    "    def get_centroids(self,img,labels):\n",
    "        centroids = []\n",
    "        for j in np.arange(self.k):\n",
    "        # Lấy index cho mỗi centroids\n",
    "            idx_j = np.where(np.array(labels) == j)[0]\n",
    "            centroid_j = img[idx_j, :].mean(axis=0)\n",
    "            centroids.append(centroid_j)\n",
    "        return np.array(centroids)"
   ]
  },
  {
   "cell_type": "code",
   "execution_count": null,
   "id": "b33d34d9",
   "metadata": {},
   "outputs": [],
   "source": [
    "\n",
    "def solve(image,k,loop,init_centroids):\n",
    "    shapee = image.shape\n",
    "    image = image.reshape(-1,image.shape[2])\n",
    "    kmean = KMeans(k,loop,init_centroids)\n",
    "    centroids,labels = kmean.find(image)\n",
    "    \n",
    "    labels = np.array(labels)[indices.astype(int)]\n",
    "    for row in image:\n",
    "        row = centroids[labels[row]]\n",
    "    image = image.reshape(shapee)\n",
    "\n",
    "    "
   ]
  },
  {
   "cell_type": "code",
   "execution_count": null,
   "id": "26cdbcfd",
   "metadata": {},
   "outputs": [],
   "source": [
    "def main():\n",
    "    imagee = Image.open(r\"C:\\Users\\ADMIN\\Desktop\\Desktop\\TUDTK\\meo.jpg\")\n",
    "    imagee = np.array(imagee)\n",
    "    plt.imshow(imagee)\n",
    "    shapee = imagee.shape\n",
    "    imagee = imagee.reshape(-1,imagee.shape[2])\n",
    "    kmean = KMeans(3,10,\"random\")\n",
    "    centroids,labels = kmean.find(imagee)\n",
    "    print(centroids)\n",
    "    for row in imagee:\n",
    "        row = centroids[labels]\n",
    "    image = image.reshape(shapee)\n",
    "    plt.imshow(imagee)"
   ]
  },
  {
   "cell_type": "code",
   "execution_count": null,
   "id": "9075ebaf",
   "metadata": {},
   "outputs": [],
   "source": [
    "main()"
   ]
  },
  {
   "cell_type": "code",
   "execution_count": null,
   "id": "d4db87c1",
   "metadata": {},
   "outputs": [],
   "source": []
  },
  {
   "cell_type": "code",
   "execution_count": null,
   "id": "1ad56237",
   "metadata": {},
   "outputs": [],
   "source": []
  }
 ],
 "metadata": {
  "kernelspec": {
   "display_name": "Python 3 (ipykernel)",
   "language": "python",
   "name": "python3"
  },
  "language_info": {
   "codemirror_mode": {
    "name": "ipython",
    "version": 3
   },
   "file_extension": ".py",
   "mimetype": "text/x-python",
   "name": "python",
   "nbconvert_exporter": "python",
   "pygments_lexer": "ipython3",
   "version": "3.10.9"
  }
 },
 "nbformat": 4,
 "nbformat_minor": 5
}
