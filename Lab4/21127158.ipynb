{
 "cells": [
  {
   "cell_type": "markdown",
   "metadata": {},
   "source": [
    "# <center>Đồ án 3: Linear Regression</center>"
   ]
  },
  {
   "cell_type": "markdown",
   "metadata": {},
   "source": [
    "# Thông tin sinh viên\n",
    "\n",
    "- Họ và tên: \n",
    "- MSSV: \n",
    "- Lớp: "
   ]
  },
  {
   "cell_type": "markdown",
   "metadata": {},
   "source": [
    "# Import"
   ]
  },
  {
   "cell_type": "code",
   "execution_count": 101,
   "metadata": {},
   "outputs": [],
   "source": [
    "import pandas as pd\n",
    "import numpy as np\n",
    "\n",
    "# Import thêm dữ thư viện nếu cần\n",
    "from sklearn.model_selection import KFold # tron va chia du lieu cho"
   ]
  },
  {
   "cell_type": "markdown",
   "metadata": {},
   "source": [
    "# Đọc dữ liệu"
   ]
  },
  {
   "cell_type": "code",
   "execution_count": 102,
   "metadata": {},
   "outputs": [],
   "source": [
    "# Đọc dữ liệu bằng pandas\n",
    "train = pd.read_csv('train.csv')\n",
    "test = pd.read_csv('test.csv')\n",
    "\n",
    "# Lấy các đặc trưng X và giá trị mục tiêu y cho các tập huấn luyện (train) và kiểm tra (test)\n",
    "X_train = train.iloc[:, :-1]    # Dataframe (chứa các đặc trưng huấn luyện)\n",
    "y_train = train.iloc[:, -1]     # Series    (chứa 1 giá trị mục tiêu kiểm tra)\n",
    "\n",
    "X_test = test.iloc[:, :-1]      # Dataframe (chứa các đặc trưng kiểm tra)\n",
    "y_test = test.iloc[:, -1]       # Series    (chứa 1 giá trị mục tiêu kiểm tra)\n",
    "\n",
    "# print('X\\n', X_test)\n",
    "# print('y\\n', y_test)\n",
    "\n",
    "# Sinh viên có thể sử dụng các khác nếu cần"
   ]
  },
  {
   "cell_type": "markdown",
   "metadata": {},
   "source": [
    "# Cài đặt hàm"
   ]
  },
  {
   "cell_type": "code",
   "execution_count": 103,
   "metadata": {},
   "outputs": [],
   "source": [
    "# Cài đặt các hàm cần thiết ở đây\n",
    "class OLSLinearRegression:\n",
    "    def fit(self, X, y):\n",
    "        X_pinv = np.linalg.inv(X.T @ X) @ X.T    # np.linalg.pinv(X)\n",
    "        self.w = X_pinv @ y\n",
    "\n",
    "        return self\n",
    "\n",
    "    def get_params(self):\n",
    "        return self.w\n",
    "\n",
    "    def predict(self, X):\n",
    "        return np.sum(self.w.ravel() * X, axis=1) \n",
    "\n",
    "def model_mae(y_test, y_pred):\n",
    "    if len(y_test) != len(y_pred):\n",
    "        raise ValueError(\"Input arrays must have the same length.\")\n",
    "    \n",
    "    absolute_errors = [abs(actual - predicted) for actual, predicted in zip(y_test, y_pred)]\n",
    "    mae = sum(absolute_errors) / len(y_test)\n",
    "    return mae"
   ]
  },
  {
   "cell_type": "code",
   "execution_count": 104,
   "metadata": {},
   "outputs": [
    {
     "name": "stdout",
     "output_type": "stream",
     "text": [
      "Train data:\n"
     ]
    },
    {
     "data": {
      "text/html": [
       "<div>\n",
       "<style scoped>\n",
       "    .dataframe tbody tr th:only-of-type {\n",
       "        vertical-align: middle;\n",
       "    }\n",
       "\n",
       "    .dataframe tbody tr th {\n",
       "        vertical-align: top;\n",
       "    }\n",
       "\n",
       "    .dataframe thead th {\n",
       "        text-align: right;\n",
       "    }\n",
       "</style>\n",
       "<table border=\"1\" class=\"dataframe\">\n",
       "  <thead>\n",
       "    <tr style=\"text-align: right;\">\n",
       "      <th></th>\n",
       "      <th>Gender</th>\n",
       "      <th>10percentage</th>\n",
       "      <th>12percentage</th>\n",
       "      <th>CollegeTier</th>\n",
       "      <th>Degree</th>\n",
       "      <th>collegeGPA</th>\n",
       "      <th>CollegeCityTier</th>\n",
       "      <th>English</th>\n",
       "      <th>Logical</th>\n",
       "      <th>Quant</th>\n",
       "      <th>...</th>\n",
       "      <th>MechanicalEngg</th>\n",
       "      <th>ElectricalEngg</th>\n",
       "      <th>TelecomEngg</th>\n",
       "      <th>CivilEngg</th>\n",
       "      <th>conscientiousness</th>\n",
       "      <th>agreeableness</th>\n",
       "      <th>extraversion</th>\n",
       "      <th>nueroticism</th>\n",
       "      <th>openess_to_experience</th>\n",
       "      <th>Salary</th>\n",
       "    </tr>\n",
       "  </thead>\n",
       "  <tbody>\n",
       "    <tr>\n",
       "      <th>0</th>\n",
       "      <td>2</td>\n",
       "      <td>87.80</td>\n",
       "      <td>84.00</td>\n",
       "      <td>1</td>\n",
       "      <td>1</td>\n",
       "      <td>73.82</td>\n",
       "      <td>1</td>\n",
       "      <td>650</td>\n",
       "      <td>665</td>\n",
       "      <td>810</td>\n",
       "      <td>...</td>\n",
       "      <td>-1</td>\n",
       "      <td>-1</td>\n",
       "      <td>-1</td>\n",
       "      <td>-1</td>\n",
       "      <td>-0.1590</td>\n",
       "      <td>0.3789</td>\n",
       "      <td>1.2396</td>\n",
       "      <td>0.14590</td>\n",
       "      <td>0.2889</td>\n",
       "      <td>445000</td>\n",
       "    </tr>\n",
       "    <tr>\n",
       "      <th>1</th>\n",
       "      <td>1</td>\n",
       "      <td>57.00</td>\n",
       "      <td>64.50</td>\n",
       "      <td>2</td>\n",
       "      <td>1</td>\n",
       "      <td>65.00</td>\n",
       "      <td>0</td>\n",
       "      <td>440</td>\n",
       "      <td>435</td>\n",
       "      <td>210</td>\n",
       "      <td>...</td>\n",
       "      <td>-1</td>\n",
       "      <td>-1</td>\n",
       "      <td>-1</td>\n",
       "      <td>-1</td>\n",
       "      <td>1.1336</td>\n",
       "      <td>0.0459</td>\n",
       "      <td>1.2396</td>\n",
       "      <td>0.52620</td>\n",
       "      <td>-0.2859</td>\n",
       "      <td>110000</td>\n",
       "    </tr>\n",
       "    <tr>\n",
       "      <th>2</th>\n",
       "      <td>1</td>\n",
       "      <td>77.33</td>\n",
       "      <td>85.17</td>\n",
       "      <td>2</td>\n",
       "      <td>1</td>\n",
       "      <td>61.94</td>\n",
       "      <td>0</td>\n",
       "      <td>485</td>\n",
       "      <td>475</td>\n",
       "      <td>505</td>\n",
       "      <td>...</td>\n",
       "      <td>-1</td>\n",
       "      <td>-1</td>\n",
       "      <td>260</td>\n",
       "      <td>-1</td>\n",
       "      <td>0.5100</td>\n",
       "      <td>-0.1232</td>\n",
       "      <td>1.5428</td>\n",
       "      <td>-0.29020</td>\n",
       "      <td>-0.2875</td>\n",
       "      <td>255000</td>\n",
       "    </tr>\n",
       "    <tr>\n",
       "      <th>3</th>\n",
       "      <td>1</td>\n",
       "      <td>84.30</td>\n",
       "      <td>86.00</td>\n",
       "      <td>1</td>\n",
       "      <td>1</td>\n",
       "      <td>80.40</td>\n",
       "      <td>1</td>\n",
       "      <td>675</td>\n",
       "      <td>620</td>\n",
       "      <td>635</td>\n",
       "      <td>...</td>\n",
       "      <td>-1</td>\n",
       "      <td>-1</td>\n",
       "      <td>-1</td>\n",
       "      <td>-1</td>\n",
       "      <td>-0.4463</td>\n",
       "      <td>0.2124</td>\n",
       "      <td>0.3174</td>\n",
       "      <td>0.27270</td>\n",
       "      <td>0.4805</td>\n",
       "      <td>420000</td>\n",
       "    </tr>\n",
       "    <tr>\n",
       "      <th>4</th>\n",
       "      <td>2</td>\n",
       "      <td>82.00</td>\n",
       "      <td>75.00</td>\n",
       "      <td>2</td>\n",
       "      <td>1</td>\n",
       "      <td>64.30</td>\n",
       "      <td>1</td>\n",
       "      <td>575</td>\n",
       "      <td>495</td>\n",
       "      <td>365</td>\n",
       "      <td>...</td>\n",
       "      <td>-1</td>\n",
       "      <td>-1</td>\n",
       "      <td>-1</td>\n",
       "      <td>-1</td>\n",
       "      <td>-1.4992</td>\n",
       "      <td>-0.7473</td>\n",
       "      <td>-1.0697</td>\n",
       "      <td>0.06223</td>\n",
       "      <td>0.1864</td>\n",
       "      <td>200000</td>\n",
       "    </tr>\n",
       "  </tbody>\n",
       "</table>\n",
       "<p>5 rows × 24 columns</p>\n",
       "</div>"
      ],
      "text/plain": [
       "   Gender  10percentage  12percentage  CollegeTier  Degree  collegeGPA  \\\n",
       "0       2         87.80         84.00            1       1       73.82   \n",
       "1       1         57.00         64.50            2       1       65.00   \n",
       "2       1         77.33         85.17            2       1       61.94   \n",
       "3       1         84.30         86.00            1       1       80.40   \n",
       "4       2         82.00         75.00            2       1       64.30   \n",
       "\n",
       "   CollegeCityTier  English  Logical  Quant  ...  MechanicalEngg  \\\n",
       "0                1      650      665    810  ...              -1   \n",
       "1                0      440      435    210  ...              -1   \n",
       "2                0      485      475    505  ...              -1   \n",
       "3                1      675      620    635  ...              -1   \n",
       "4                1      575      495    365  ...              -1   \n",
       "\n",
       "   ElectricalEngg  TelecomEngg  CivilEngg  conscientiousness  agreeableness  \\\n",
       "0              -1           -1         -1            -0.1590         0.3789   \n",
       "1              -1           -1         -1             1.1336         0.0459   \n",
       "2              -1          260         -1             0.5100        -0.1232   \n",
       "3              -1           -1         -1            -0.4463         0.2124   \n",
       "4              -1           -1         -1            -1.4992        -0.7473   \n",
       "\n",
       "   extraversion  nueroticism  openess_to_experience  Salary  \n",
       "0        1.2396      0.14590                 0.2889  445000  \n",
       "1        1.2396      0.52620                -0.2859  110000  \n",
       "2        1.5428     -0.29020                -0.2875  255000  \n",
       "3        0.3174      0.27270                 0.4805  420000  \n",
       "4       -1.0697      0.06223                 0.1864  200000  \n",
       "\n",
       "[5 rows x 24 columns]"
      ]
     },
     "execution_count": 104,
     "metadata": {},
     "output_type": "execute_result"
    }
   ],
   "source": [
    "print('Train data:')\n",
    "train.head()"
   ]
  },
  {
   "cell_type": "code",
   "execution_count": 105,
   "metadata": {},
   "outputs": [
    {
     "name": "stdout",
     "output_type": "stream",
     "text": [
      "Test data:\n"
     ]
    },
    {
     "data": {
      "text/html": [
       "<div>\n",
       "<style scoped>\n",
       "    .dataframe tbody tr th:only-of-type {\n",
       "        vertical-align: middle;\n",
       "    }\n",
       "\n",
       "    .dataframe tbody tr th {\n",
       "        vertical-align: top;\n",
       "    }\n",
       "\n",
       "    .dataframe thead th {\n",
       "        text-align: right;\n",
       "    }\n",
       "</style>\n",
       "<table border=\"1\" class=\"dataframe\">\n",
       "  <thead>\n",
       "    <tr style=\"text-align: right;\">\n",
       "      <th></th>\n",
       "      <th>Gender</th>\n",
       "      <th>10percentage</th>\n",
       "      <th>12percentage</th>\n",
       "      <th>CollegeTier</th>\n",
       "      <th>Degree</th>\n",
       "      <th>collegeGPA</th>\n",
       "      <th>CollegeCityTier</th>\n",
       "      <th>English</th>\n",
       "      <th>Logical</th>\n",
       "      <th>Quant</th>\n",
       "      <th>...</th>\n",
       "      <th>MechanicalEngg</th>\n",
       "      <th>ElectricalEngg</th>\n",
       "      <th>TelecomEngg</th>\n",
       "      <th>CivilEngg</th>\n",
       "      <th>conscientiousness</th>\n",
       "      <th>agreeableness</th>\n",
       "      <th>extraversion</th>\n",
       "      <th>nueroticism</th>\n",
       "      <th>openess_to_experience</th>\n",
       "      <th>Salary</th>\n",
       "    </tr>\n",
       "  </thead>\n",
       "  <tbody>\n",
       "    <tr>\n",
       "      <th>0</th>\n",
       "      <td>1</td>\n",
       "      <td>61.63</td>\n",
       "      <td>53.17</td>\n",
       "      <td>2</td>\n",
       "      <td>1</td>\n",
       "      <td>60.00</td>\n",
       "      <td>1</td>\n",
       "      <td>485</td>\n",
       "      <td>415</td>\n",
       "      <td>215</td>\n",
       "      <td>...</td>\n",
       "      <td>-1</td>\n",
       "      <td>-1</td>\n",
       "      <td>-1</td>\n",
       "      <td>-1</td>\n",
       "      <td>-0.7264</td>\n",
       "      <td>0.1888</td>\n",
       "      <td>-0.7794</td>\n",
       "      <td>-0.7603</td>\n",
       "      <td>0.3049</td>\n",
       "      <td>280000</td>\n",
       "    </tr>\n",
       "    <tr>\n",
       "      <th>1</th>\n",
       "      <td>1</td>\n",
       "      <td>72.40</td>\n",
       "      <td>73.40</td>\n",
       "      <td>2</td>\n",
       "      <td>1</td>\n",
       "      <td>68.25</td>\n",
       "      <td>0</td>\n",
       "      <td>485</td>\n",
       "      <td>625</td>\n",
       "      <td>655</td>\n",
       "      <td>...</td>\n",
       "      <td>-1</td>\n",
       "      <td>-1</td>\n",
       "      <td>-1</td>\n",
       "      <td>-1</td>\n",
       "      <td>-0.2628</td>\n",
       "      <td>-0.1232</td>\n",
       "      <td>0.8171</td>\n",
       "      <td>0.5323</td>\n",
       "      <td>0.0284</td>\n",
       "      <td>520000</td>\n",
       "    </tr>\n",
       "    <tr>\n",
       "      <th>2</th>\n",
       "      <td>1</td>\n",
       "      <td>79.00</td>\n",
       "      <td>83.40</td>\n",
       "      <td>2</td>\n",
       "      <td>1</td>\n",
       "      <td>73.30</td>\n",
       "      <td>0</td>\n",
       "      <td>425</td>\n",
       "      <td>515</td>\n",
       "      <td>595</td>\n",
       "      <td>...</td>\n",
       "      <td>-1</td>\n",
       "      <td>-1</td>\n",
       "      <td>-1</td>\n",
       "      <td>-1</td>\n",
       "      <td>1.4374</td>\n",
       "      <td>0.9688</td>\n",
       "      <td>0.8171</td>\n",
       "      <td>0.4442</td>\n",
       "      <td>0.9763</td>\n",
       "      <td>150000</td>\n",
       "    </tr>\n",
       "    <tr>\n",
       "      <th>3</th>\n",
       "      <td>1</td>\n",
       "      <td>73.00</td>\n",
       "      <td>69.00</td>\n",
       "      <td>2</td>\n",
       "      <td>1</td>\n",
       "      <td>65.50</td>\n",
       "      <td>0</td>\n",
       "      <td>465</td>\n",
       "      <td>480</td>\n",
       "      <td>415</td>\n",
       "      <td>...</td>\n",
       "      <td>-1</td>\n",
       "      <td>-1</td>\n",
       "      <td>-1</td>\n",
       "      <td>-1</td>\n",
       "      <td>0.1282</td>\n",
       "      <td>-0.1206</td>\n",
       "      <td>0.3174</td>\n",
       "      <td>0.6530</td>\n",
       "      <td>-0.6692</td>\n",
       "      <td>180000</td>\n",
       "    </tr>\n",
       "    <tr>\n",
       "      <th>4</th>\n",
       "      <td>1</td>\n",
       "      <td>92.00</td>\n",
       "      <td>72.00</td>\n",
       "      <td>2</td>\n",
       "      <td>1</td>\n",
       "      <td>66.00</td>\n",
       "      <td>1</td>\n",
       "      <td>500</td>\n",
       "      <td>440</td>\n",
       "      <td>500</td>\n",
       "      <td>...</td>\n",
       "      <td>-1</td>\n",
       "      <td>-1</td>\n",
       "      <td>-1</td>\n",
       "      <td>-1</td>\n",
       "      <td>-2.4570</td>\n",
       "      <td>-0.9531</td>\n",
       "      <td>-0.7585</td>\n",
       "      <td>0.9066</td>\n",
       "      <td>0.0973</td>\n",
       "      <td>300000</td>\n",
       "    </tr>\n",
       "  </tbody>\n",
       "</table>\n",
       "<p>5 rows × 24 columns</p>\n",
       "</div>"
      ],
      "text/plain": [
       "   Gender  10percentage  12percentage  CollegeTier  Degree  collegeGPA  \\\n",
       "0       1         61.63         53.17            2       1       60.00   \n",
       "1       1         72.40         73.40            2       1       68.25   \n",
       "2       1         79.00         83.40            2       1       73.30   \n",
       "3       1         73.00         69.00            2       1       65.50   \n",
       "4       1         92.00         72.00            2       1       66.00   \n",
       "\n",
       "   CollegeCityTier  English  Logical  Quant  ...  MechanicalEngg  \\\n",
       "0                1      485      415    215  ...              -1   \n",
       "1                0      485      625    655  ...              -1   \n",
       "2                0      425      515    595  ...              -1   \n",
       "3                0      465      480    415  ...              -1   \n",
       "4                1      500      440    500  ...              -1   \n",
       "\n",
       "   ElectricalEngg  TelecomEngg  CivilEngg  conscientiousness  agreeableness  \\\n",
       "0              -1           -1         -1            -0.7264         0.1888   \n",
       "1              -1           -1         -1            -0.2628        -0.1232   \n",
       "2              -1           -1         -1             1.4374         0.9688   \n",
       "3              -1           -1         -1             0.1282        -0.1206   \n",
       "4              -1           -1         -1            -2.4570        -0.9531   \n",
       "\n",
       "   extraversion  nueroticism  openess_to_experience  Salary  \n",
       "0       -0.7794      -0.7603                 0.3049  280000  \n",
       "1        0.8171       0.5323                 0.0284  520000  \n",
       "2        0.8171       0.4442                 0.9763  150000  \n",
       "3        0.3174       0.6530                -0.6692  180000  \n",
       "4       -0.7585       0.9066                 0.0973  300000  \n",
       "\n",
       "[5 rows x 24 columns]"
      ]
     },
     "execution_count": 105,
     "metadata": {},
     "output_type": "execute_result"
    }
   ],
   "source": [
    "print('Test data:')\n",
    "test.head()"
   ]
  },
  {
   "cell_type": "markdown",
   "metadata": {},
   "source": [
    "# Yêu cầu 1a: Sử dụng toàn bộ 11 đặc trưng đầu tiên `Gender`, `10percentage`, `12percentage`, `CollegeTier`, `Degree`, `collegeGPA`, `CollegeCityTier`, `English`, `Logical`, `Quant`, `Domain` (2 điểm) "
   ]
  },
  {
   "cell_type": "code",
   "execution_count": 106,
   "metadata": {},
   "outputs": [],
   "source": [
    "X_train1a = X_train[[\n",
    "    'Gender',\n",
    "    '10percentage',\n",
    "    '12percentage',\n",
    "    'CollegeTier',\n",
    "    'Degree', \n",
    "    'collegeGPA',\n",
    "    'CollegeCityTier',\n",
    "    'English',\n",
    "    'Logical',\n",
    "    'Quant',\n",
    "    'Domain',\n",
    "]]\n",
    "\n",
    "X_test1a = X_test[[\n",
    "    'Gender', \n",
    "    '10percentage', \n",
    "    '12percentage', \n",
    "    'CollegeTier', \n",
    "    'Degree', \n",
    "    'collegeGPA',\n",
    "    'CollegeCityTier',\n",
    "    'English',\n",
    "    'Logical',\n",
    "    'Quant',\n",
    "    'Domain',\n",
    "]]"
   ]
  },
  {
   "cell_type": "code",
   "execution_count": 107,
   "metadata": {},
   "outputs": [],
   "source": [
    "# Phần code cho yêu cầu 1a\n",
    "# To train 11 fearures\n",
    "def train_1a(X_train, y_train, X_test):\n",
    "    w = OLSLinearRegression().fit(X_train, y_train)\n",
    "    y_pred = w.predict(X_test)\n",
    "    return y_pred, w\n",
    "\n",
    "def question_1a_MAE_check(y_test, y_pred, w):\n",
    "    return model_mae(y_test, y_pred), np.array(w.get_params()).reshape(-1, 1)"
   ]
  },
  {
   "cell_type": "code",
   "execution_count": 108,
   "metadata": {},
   "outputs": [
    {
     "name": "stdout",
     "output_type": "stream",
     "text": [
      "Weight:\n",
      " [[-22756.51282098]\n",
      " [   804.50315567]\n",
      " [  1294.65456525]\n",
      " [-91781.89753057]\n",
      " [ 23182.38867916]\n",
      " [  1437.54867231]\n",
      " [ -8570.66198486]\n",
      " [   147.85829929]\n",
      " [   152.88847648]\n",
      " [   117.22184593]\n",
      " [ 34552.28622083]] \n",
      "MAE: 104863.77754033003\n"
     ]
    }
   ],
   "source": [
    "# Gọi hàm MAE (tự cài đặt hoặc từ thư viện) trên tập kiểm tra\n",
    "y_pred, w = train_1a(X_train1a.to_numpy(), y_train.to_numpy(), X_test1a.to_numpy())\n",
    "mae, w = question_1a_MAE_check(y_test.to_numpy(), y_pred, w)\n",
    "\n",
    "print(\"Weight:\\n\", w, \"\\nMAE:\", mae)"
   ]
  },
  {
   "cell_type": "markdown",
   "metadata": {},
   "source": [
    "Công thức hồi quy (phần trọng số làm tròn đến 3 chữ số thập phân, ví dụ 0.012345 $\\to$ 0.012)\n",
    "\n",
    "$$\\text{Salary} = ...$$"
   ]
  },
  {
   "cell_type": "markdown",
   "metadata": {},
   "source": [
    "# Yêu cầu 1b: Xây dựng mô hình sử dụng duy nhất 1 đặc trưng tính cách với các đặc trưng tính cách gồm `conscientiousness`, `agreeableness`, `extraversion`, `nueroticism`, `openess_to_experience`, tìm mô hình cho kết quả tốt nhất (1 điểm)"
   ]
  },
  {
   "cell_type": "markdown",
   "metadata": {},
   "source": [
    "Lưu ý: khi sử dụng cross-validation, sinh viên cần xáo trộn dữ liệu 1 lần duy nhất và thực hiện trên toàn bộ đặc trưng"
   ]
  },
  {
   "cell_type": "code",
   "execution_count": 109,
   "metadata": {},
   "outputs": [],
   "source": [
    "# Phần code cho yêu cầu 1b\n",
    "# Tìm ra đặc trưng tốt nhất\n",
    "# In ra các kết quả cross-validation như yêu cầu\n",
    "\n",
    "features_1b = [\n",
    "    'conscientiousness',\n",
    "    'agreeableness',\n",
    "    'extraversion',\n",
    "    'nueroticism',\n",
    "    'openess_to_experience',\n",
    "    'Salary'\n",
    "]\n",
    "\n",
    "def question_1b_handler(train, features, k_fold=5):\n",
    "    mae_arr = np.zeros(train.shape[1] - 1)\n",
    "    shuffle_data = KFold(n_splits = k_fold, shuffle = True)\n",
    "\n",
    "    for train_split, test_split in shuffle_data.split(train):\n",
    "        idx = 0\n",
    "        for column in features:\n",
    "            if column != 'Salary':\n",
    "                feature_train = train.iloc[train_split].loc[:,[column]]\n",
    "                label_train = train.iloc[train_split].loc[:,['Salary']]\n",
    "\n",
    "                feature_test = train.iloc[test_split].loc[:,[column]]\n",
    "                label_test = train.iloc[test_split].loc[:,['Salary']]\n",
    "                y_pred, w = train_1a(feature_train.to_numpy(), label_train.to_numpy(), feature_test.to_numpy())\n",
    "                mae, w = question_1a_MAE_check(label_test.to_numpy(), y_pred, w)\n",
    "\n",
    "                mae_arr[idx] += mae\n",
    "                \n",
    "                idx += 1\n",
    "\n",
    "    mae_arr /= k_fold\n",
    "    print('MAE: ', mae_arr)\n",
    "\n",
    "    return mae_arr, features[np.argmin(mae_arr)]"
   ]
  },
  {
   "cell_type": "code",
   "execution_count": 110,
   "metadata": {},
   "outputs": [
    {
     "name": "stdout",
     "output_type": "stream",
     "text": [
      "MAE:  [306195.38532017 300822.88017464 306839.83858625 299508.61145496\n",
      " 302865.29323618]\n",
      "Best feature:  nueroticism\n"
     ]
    }
   ],
   "source": [
    "train_1b = train[features_1b]\n",
    "\n",
    "mae_arr_1b, best_feature_1b = question_1b_handler(train_1b, features_1b, 5)\n",
    "print(\"Best feature: \", best_feature_1b)"
   ]
  },
  {
   "cell_type": "code",
   "execution_count": 111,
   "metadata": {},
   "outputs": [],
   "source": [
    "# Huấn luyện lại mô hình best_personality_feature_model với đặc trưng tốt nhất trên toàn bộ tập huấn luyện\n",
    "feature_train_1b = train.loc[:, [best_feature_1b]]\n",
    "feature_test_1b = test.loc[:, [best_feature_1b]]\n",
    "\n",
    "y_pred_1b, w_1b = train_1a(feature_train_1b.to_numpy(), y_train.to_numpy(), feature_test_1b.to_numpy())"
   ]
  },
  {
   "cell_type": "code",
   "execution_count": 112,
   "metadata": {},
   "outputs": [
    {
     "name": "stdout",
     "output_type": "stream",
     "text": [
      "Weight:\n",
      " [[-56546.30375318]] \n",
      "MAE: 291019.69322695304\n"
     ]
    }
   ],
   "source": [
    "# Gọi hàm MAE (tự cài đặt hoặc từ thư viện) trên tập kiểm tra với mô hình best_personality_feature_model\n",
    "mae_1b, w_1b = question_1a_MAE_check(y_test.to_numpy(), y_pred_1b, w_1b)\n",
    "\n",
    "print(\"Weight:\\n\", w_1b, \"\\nMAE:\", mae_1b)"
   ]
  },
  {
   "cell_type": "markdown",
   "metadata": {},
   "source": [
    "Công thức hồi quy (phần trọng số làm tròn đến 3 chữ số thập phân, ví dụ 0.012345 $\\to$ 0.012)\n",
    "\n",
    "$$\\text{Salary} = ...$$"
   ]
  },
  {
   "cell_type": "markdown",
   "metadata": {},
   "source": [
    "# Yêu cầu 1c: Xây dựng mô hình sử dụng duy nhất 1 đặc trưng `English`, `Logical`, `Quant`, tìm mô hình cho kết quả tốt nhất (1 điểm)"
   ]
  },
  {
   "cell_type": "markdown",
   "metadata": {},
   "source": [
    "Lưu ý: khi sử dụng cross-validation, sinh viên cần xáo trộn dữ liệu 1 lần duy nhất và thực hiện trên toàn bộ đặc trưng"
   ]
  },
  {
   "cell_type": "code",
   "execution_count": 113,
   "metadata": {},
   "outputs": [
    {
     "name": "stdout",
     "output_type": "stream",
     "text": [
      "MAE:  [121943.6746856  120297.44368814 118143.29246183]\n",
      "Best feature:  Quant\n"
     ]
    }
   ],
   "source": [
    "# Phần code cho yêu cầu 1c\n",
    "# Tìm ra đặc trưng tốt nhất\n",
    "# In ra các kết quả cross-validation như yêu cầu\n",
    "features_1c = [\n",
    "    'English',\n",
    "    'Logical',\n",
    "    'Quant',\n",
    "    'Salary'\n",
    "]\n",
    "\n",
    "train_1c = train[features_1c]\n",
    "\n",
    "mae_arr_1c, best_feature_1c = question_1b_handler(train_1c, features_1c, 5)\n",
    "print(\"Best feature: \", best_feature_1c)"
   ]
  },
  {
   "cell_type": "code",
   "execution_count": 114,
   "metadata": {},
   "outputs": [],
   "source": [
    "# Huấn luyện lại mô hình best_skill_feature_model với đặc trưng tốt nhất trên toàn bộ tập huấn luyện\n",
    "feature_train_1c = train.loc[:, [best_feature_1c]]\n",
    "feature_test_1c = test.loc[:, [best_feature_1c]]\n",
    "\n",
    "y_pred_1c, w_1c = train_1a(feature_train_1c.to_numpy(), y_train.to_numpy(), feature_test_1c.to_numpy())"
   ]
  },
  {
   "cell_type": "code",
   "execution_count": 115,
   "metadata": {},
   "outputs": [
    {
     "name": "stdout",
     "output_type": "stream",
     "text": [
      "Weight:\n",
      " [[585.89538084]] \n",
      "MAE: 106819.57761989666\n"
     ]
    }
   ],
   "source": [
    "# Gọi hàm MAE (tự cài đặt hoặc từ thư viện) trên tập kiểm tra với mô hình best_skill_feature_model\n",
    "mae_1c, w_1c = question_1a_MAE_check(y_test.to_numpy(), y_pred_1c, w_1c)\n",
    "\n",
    "print(\"Weight:\\n\", w_1c, \"\\nMAE:\", mae_1c)"
   ]
  },
  {
   "cell_type": "markdown",
   "metadata": {},
   "source": [
    "Công thức hồi quy (phần trọng số làm tròn đến 3 chữ số thập phân, ví dụ 0.012345 $\\to$ 0.012)\n",
    "\n",
    "$$\\text{Salary} = ...$$"
   ]
  },
  {
   "cell_type": "markdown",
   "metadata": {},
   "source": [
    "# Yêu cầu 1d: Sinh viên tự xây dựng mô hình, tìm mô hình cho kết quả tốt nhất (3 điểm)"
   ]
  },
  {
   "cell_type": "markdown",
   "metadata": {},
   "source": [
    "Lưu ý: khi sử dụng cross-validation, sinh viên cần xáo trộn dữ liệu 1 lần duy nhất và thực hiện trên toàn bộ $m$ mô hình mà sinh viên thiết kế"
   ]
  },
  {
   "cell_type": "markdown",
   "metadata": {},
   "source": [
    "## Tìm mô hình"
   ]
  },
  {
   "cell_type": "code",
   "execution_count": 116,
   "metadata": {},
   "outputs": [],
   "source": [
    "# Trình bày các phần tìm ra mô hình"
   ]
  },
  {
   "cell_type": "code",
   "execution_count": 117,
   "metadata": {},
   "outputs": [],
   "source": [
    "def data_constructor(data, option=0):\n",
    "    if(option == 0): # based on grades at university\n",
    "        return data.loc[:, [\n",
    "            \"CollegeGPA\",\n",
    "            \"ComputerScience\",\n",
    "            \"ComputerProgramming\",\n",
    "            \"ElectronicsAndSemicon\",\n",
    "            \"TelecomEngg\",\n",
    "        ]]\n",
    "    elif(option == 1): # based on all AMCAT scores\n",
    "        return data.loc[:, [\n",
    "            \"English\",\n",
    "            \"Logical\",\n",
    "            \"Quant\",\n",
    "            \"Domain\",\n",
    "            \"ComputerProgramming\",\n",
    "            \"ElectronicsAndSemicon\",\n",
    "            \"ComputerScience\",\n",
    "            \"MechanicalEngg\",\n",
    "            \"ElectricalEngg\",\n",
    "            \"TelecomEngg\",\n",
    "            \"CivilEngg\",\n",
    "            \"conscientiousness\",\n",
    "            \"agreeableness\",\n",
    "            \"extraversion\",\n",
    "            \"nueroticism\",\n",
    "            \"openess_to_experience\",\n",
    "        ]]\n",
    "    elif(option == 2): # based on scores of previous competitions\n",
    "        return data.loc[:, [\n",
    "            \"10percentage\",\n",
    "            \"12percentage\",\n",
    "            \"CollegeGPA\",\n",
    "        ]]"
   ]
  },
  {
   "cell_type": "markdown",
   "metadata": {},
   "source": [
    "## Thử nghiệm, so sánh các mô hình"
   ]
  },
  {
   "cell_type": "code",
   "execution_count": 118,
   "metadata": {},
   "outputs": [],
   "source": [
    "# Phần code cho yêu cầu 1d\n",
    "# Tìm ra mô hình tốt nhất (tự thiết kế bởi sinh viên)\n",
    "# In ra các kết quả cross-validation như yêu cầu"
   ]
  },
  {
   "cell_type": "code",
   "execution_count": 119,
   "metadata": {},
   "outputs": [],
   "source": [
    "# Huấn luyện lại mô hình my_best_model trên toàn bộ tập huấn luyện"
   ]
  },
  {
   "cell_type": "code",
   "execution_count": 120,
   "metadata": {},
   "outputs": [],
   "source": [
    "# Gọi hàm MAE (tự cài đặt hoặc từ thư viện) trên tập kiểm tra với mô hình my_best_model"
   ]
  },
  {
   "cell_type": "markdown",
   "metadata": {},
   "source": [
    "Công thức hồi quy (phần trọng số làm tròn đến 3 chữ số thập phân, ví dụ 0.012345 $\\to$ 0.012)\n",
    "\n",
    "$$\\text{Salary} = ...$$"
   ]
  }
 ],
 "metadata": {
  "kernelspec": {
   "display_name": "Python 3.8.5 ('base')",
   "language": "python",
   "name": "python3"
  },
  "language_info": {
   "codemirror_mode": {
    "name": "ipython",
    "version": 3
   },
   "file_extension": ".py",
   "mimetype": "text/x-python",
   "name": "python",
   "nbconvert_exporter": "python",
   "pygments_lexer": "ipython3",
   "version": "3.11.0"
  },
  "orig_nbformat": 4,
  "vscode": {
   "interpreter": {
    "hash": "15af99fd1a1a3f0a3416ea421564e792a8676a13670c2eed127d89ab0518a27b"
   }
  }
 },
 "nbformat": 4,
 "nbformat_minor": 2
}
