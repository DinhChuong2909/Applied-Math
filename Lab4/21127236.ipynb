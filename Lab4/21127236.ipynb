{
 "cells": [
  {
   "cell_type": "markdown",
   "metadata": {},
   "source": [
    "# <center>Đồ án 3: Linear Regression</center>"
   ]
  },
  {
   "attachments": {},
   "cell_type": "markdown",
   "metadata": {},
   "source": [
    "# Thông tin sinh viên\n",
    "\n",
    "- Họ và tên: Vũ Đình Chương\n",
    "- MSSV: 21127236\n",
    "- Lớp: 21CLC02"
   ]
  },
  {
   "cell_type": "markdown",
   "metadata": {},
   "source": [
    "# Import"
   ]
  },
  {
   "cell_type": "code",
   "execution_count": 140,
   "metadata": {},
   "outputs": [],
   "source": [
    "import pandas as pd\n",
    "import numpy as np\n",
    "import matplotlib.pyplot as plt\n",
    "import seaborn as sns\n",
    "# Import thêm dữ thư viện nếu cần"
   ]
  },
  {
   "cell_type": "markdown",
   "metadata": {},
   "source": [
    "# Đọc dữ liệu"
   ]
  },
  {
   "cell_type": "code",
   "execution_count": 141,
   "metadata": {},
   "outputs": [],
   "source": [
    "# Đọc dữ liệu bằng pandas\n",
    "train = pd.read_csv('train.csv')\n",
    "test = pd.read_csv('test.csv')\n",
    "\n",
    "# Lấy các đặc trưng X và giá trị mục tiêu y cho các tập huấn luyện (train) và kiểm tra (test)\n",
    "X_train = train.iloc[:, :-1]    # Dataframe (chứa các đặc trưng huấn luyện)\n",
    "y_train = train.iloc[:, -1]     # Series    (chứa 1 giá trị mục tiêu kiểm tra)\n",
    "\n",
    "X_test = test.iloc[:, :-1]      # Dataframe (chứa các đặc trưng kiểm tra)\n",
    "y_test = test.iloc[:, -1]       # Series    (chứa 1 giá trị mục tiêu kiểm tra)\n",
    "\n",
    "# Sinh viên có thể sử dụng cách khác nếu cần"
   ]
  },
  {
   "cell_type": "markdown",
   "metadata": {},
   "source": [
    "# Cài đặt hàm"
   ]
  },
  {
   "cell_type": "code",
   "execution_count": 142,
   "metadata": {},
   "outputs": [],
   "source": [
    "# Cài đặt các hàm cần thiết ở đây\n",
    "class OLSLinearRegression:\n",
    "    def fit(self, X, y):\n",
    "        X_pinv = np.linalg.inv(X.T @ X) @ X.T    # np.linalg.pinv(X)\n",
    "        self.w = X_pinv @ y\n",
    "\n",
    "        return self\n",
    "\n",
    "\n",
    "    def get_params(self):\n",
    "        return self.w\n",
    "\n",
    "\n",
    "    def predict(self, X):\n",
    "        return np.sum(self.w.ravel() * X, axis=1)   \n",
    "    \n",
    "def mae(y, y_hat):\n",
    "    return np.mean(np.abs(y.ravel() - y_hat.ravel()))\n",
    "\n",
    "def train_1(X_train_1, X_test_1, y_train):\n",
    "    lr = OLSLinearRegression().fit(X_train_1, y_train)\n",
    "    lr_1 = round(lr.get_params(), 3)\n",
    "    y_predict_test = round(lr.predict(X_test_1), 3)\n",
    "    return y_predict_test, lr_1\n",
    "\n",
    "def printweight(weight):\n",
    "    for i in range(len(weight)):\n",
    "        print(f\"w{i + 1}: {weight[i]}\")\n",
    "\n",
    "def kfoldsplit(X_train_1, y_train_1, k):\n",
    "    size_train = len(X_train_1) // k\n",
    "    X_kfold_test = []\n",
    "    y_kfold_test = []\n",
    "\n",
    "    for fold_idx in range(k):\n",
    "        start_idx = fold_idx * size_train\n",
    "        end_idx = (fold_idx + 1) * size_train\n",
    "        if fold_idx < k - 1:\n",
    "            X_kfold_test.append(X_train_1.iloc[start_idx:end_idx])\n",
    "            y_kfold_test.append(y_train_1.iloc[start_idx:end_idx])\n",
    "        if fold_idx >= k - 1: \n",
    "            X_kfold_test.append(X_train_1.iloc[start_idx:])\n",
    "            y_kfold_test.append(y_train_1.iloc[start_idx:])\n",
    "\n",
    "    return X_kfold_test, y_kfold_test\n",
    "\n",
    "def kfold(X_train_1, y_train_1, k):\n",
    "    X_kfold_test, y_kfold_test = kfoldsplit(X_train_1, y_train_1, k)\n",
    "    mae_arr = np.zeros(X_train_1.shape[1])\n",
    "    \n",
    "    for i in range(k):\n",
    "        for col_idx in range(X_train_1.shape[1]):\n",
    "            idx = X_kfold_test[i].index\n",
    "            x_temp_train = X_train_1.iloc[:, col_idx:col_idx + 1]\n",
    "            x_temp_test = X_kfold_test[i].iloc[:, col_idx:col_idx + 1]\n",
    "            y_temp_predict, _ = train_1(x_temp_train.drop(idx), x_temp_test, y_train_1.drop(idx))\n",
    "            mae_arr[col_idx] += mae(y_kfold_test[i], y_temp_predict)\n",
    "    mae_arr /= k\n",
    "    return mae_arr, X_train_1.columns[np.argmin(mae_arr)]\n",
    "\n",
    "def detect_outliers(data):\n",
    "    outlier_percents = {}\n",
    "    for column in data.columns:\n",
    "        if data[column].dtype != object:\n",
    "            q1 = np.quantile(data[column], 0.25)\n",
    "            q3 = np.quantile(data[column], 0.75)\n",
    "            iqr = q3 - q1\n",
    "            upper_bound = q3 + (1.5 * iqr)\n",
    "            lower_bound = q1 - (1.5 * iqr)\n",
    "            outliers = data[(data[column] > upper_bound) | (data[column] < lower_bound)][column]\n",
    "            outlier_percentage = len(outliers) / len(data[column]) * 100\n",
    "            outlier_percents[column] = outlier_percentage\n",
    "            outlier_dataframe = pd.DataFrame(data = outlier_percents.values() ,index=outlier_percents.keys() ,columns=['Outlier_percentage'])\n",
    "    \n",
    "    return outlier_dataframe.sort_values(by = 'Outlier_percentage', ascending = False)\n",
    "\n"
   ]
  },
  {
   "cell_type": "markdown",
   "metadata": {},
   "source": [
    "# Yêu cầu 1a: Sử dụng toàn bộ 11 đặc trưng đầu tiên `Gender`, `10percentage`, `12percentage`, `CollegeTier`, `Degree`, `collegeGPA`, `CollegeCityTier`, `English`, `Logical`, `Quant`, `Domain` (2 điểm) "
   ]
  },
  {
   "cell_type": "code",
   "execution_count": 143,
   "metadata": {},
   "outputs": [
    {
     "name": "stdout",
     "output_type": "stream",
     "text": [
      "w1: -22756.513\n",
      "w2: 804.503\n",
      "w3: 1294.655\n",
      "w4: -91781.898\n",
      "w5: 23182.389\n",
      "w6: 1437.549\n",
      "w7: -8570.662\n",
      "w8: 147.858\n",
      "w9: 152.888\n",
      "w10: 117.222\n",
      "w11: 34552.286\n"
     ]
    }
   ],
   "source": [
    "# Phần code cho yêu cầu 1a\n",
    "X_train_1a = X_train.iloc[:, :11]\n",
    "X_test_1a = X_test.iloc[:, :11]\n",
    "y_predict_test_1a, lr_1a = train_1(X_train_1a, X_test_1a, y_train)\n",
    "printweight(lr_1a)\n",
    "\n"
   ]
  },
  {
   "cell_type": "code",
   "execution_count": 144,
   "metadata": {},
   "outputs": [
    {
     "name": "stdout",
     "output_type": "stream",
     "text": [
      "MAE: 104863.77754133331\n"
     ]
    }
   ],
   "source": [
    "# Gọi hàm MAE (tự cài đặt hoặc từ thư viện) trên tập kiểm tra\n",
    "mae_1a =  mae(y_test, y_predict_test_1a)\n",
    "print('MAE:', mae_1a)"
   ]
  },
  {
   "attachments": {},
   "cell_type": "markdown",
   "metadata": {},
   "source": [
    "Công thức hồi quy (phần trọng số làm tròn đến 3 chữ số thập phân, ví dụ 0.012345 $\\to$ 0.012)\n",
    "\n",
    "$$\\text{Salary} = -22756.513*Gender + 804.503*10percentage +  1294.655*12percentage \\\\+ (-91781.898)*CollegeTier + (-23182.389)*Degree +  1437.549*collegeGPA \\\\+ (-8570.662)*CollegeCityTier + 147.858*English + 152.888*Logical \\\\+ 117.222*Quant + 34552.286*Domain$$"
   ]
  },
  {
   "cell_type": "markdown",
   "metadata": {},
   "source": [
    "# Yêu cầu 1b: Xây dựng mô hình sử dụng duy nhất 1 đặc trưng tính cách với các đặc trưng tính cách gồm `conscientiousness`, `agreeableness`, `extraversion`, `nueroticism`, `openess_to_experience`, tìm mô hình cho kết quả tốt nhất (1 điểm)"
   ]
  },
  {
   "cell_type": "markdown",
   "metadata": {},
   "source": [
    "Lưu ý: khi sử dụng cross-validation, sinh viên cần xáo trộn dữ liệu 1 lần duy nhất và thực hiện trên toàn bộ đặc trưng"
   ]
  },
  {
   "cell_type": "code",
   "execution_count": 145,
   "metadata": {},
   "outputs": [
    {
     "data": {
      "text/html": [
       "<div>\n",
       "<style scoped>\n",
       "    .dataframe tbody tr th:only-of-type {\n",
       "        vertical-align: middle;\n",
       "    }\n",
       "\n",
       "    .dataframe tbody tr th {\n",
       "        vertical-align: top;\n",
       "    }\n",
       "\n",
       "    .dataframe thead th {\n",
       "        text-align: right;\n",
       "    }\n",
       "</style>\n",
       "<table border=\"1\" class=\"dataframe\">\n",
       "  <thead>\n",
       "    <tr style=\"text-align: right;\">\n",
       "      <th></th>\n",
       "      <th>Feature Name</th>\n",
       "      <th>MAE</th>\n",
       "    </tr>\n",
       "  </thead>\n",
       "  <tbody>\n",
       "    <tr>\n",
       "      <th>1</th>\n",
       "      <td>conscientiousness</td>\n",
       "      <td>306113.167478</td>\n",
       "    </tr>\n",
       "    <tr>\n",
       "      <th>2</th>\n",
       "      <td>agreeableness</td>\n",
       "      <td>300908.734761</td>\n",
       "    </tr>\n",
       "    <tr>\n",
       "      <th>3</th>\n",
       "      <td>extraversion</td>\n",
       "      <td>307258.219043</td>\n",
       "    </tr>\n",
       "    <tr>\n",
       "      <th>4</th>\n",
       "      <td>nueroticism</td>\n",
       "      <td>299369.912854</td>\n",
       "    </tr>\n",
       "    <tr>\n",
       "      <th>5</th>\n",
       "      <td>openess_to_experience</td>\n",
       "      <td>303056.981407</td>\n",
       "    </tr>\n",
       "  </tbody>\n",
       "</table>\n",
       "</div>"
      ],
      "text/plain": [
       "            Feature Name            MAE\n",
       "1      conscientiousness  306113.167478\n",
       "2          agreeableness  300908.734761\n",
       "3           extraversion  307258.219043\n",
       "4            nueroticism  299369.912854\n",
       "5  openess_to_experience  303056.981407"
      ]
     },
     "metadata": {},
     "output_type": "display_data"
    },
    {
     "name": "stdout",
     "output_type": "stream",
     "text": [
      "Best personality feature model: nueroticism\n"
     ]
    }
   ],
   "source": [
    "# Phần code cho yêu cầu 1b\n",
    "# Tìm ra đặc trưng tốt nhất\n",
    "# In ra các kết quả cross-validation như yêu cầu\n",
    "feature_1b = ['conscientiousness', 'agreeableness', 'extraversion', 'nueroticism', 'openess_to_experience','Salary']\n",
    "train_1b = train.loc[:, feature_1b].sample(frac=1).reset_index(drop=True)\n",
    "X_train_1b = train_1b.iloc[:, :-1]\n",
    "y_train_1b = train_1b.iloc[:, -1]\n",
    "mae_arr_1b, best_personality_feature_model = kfold(X_train_1b, y_train_1b, 5)\n",
    "data = {'Feature Name': feature_1b[:-1], 'MAE': mae_arr_1b}\n",
    "df = pd.DataFrame(data)\n",
    "df.index = pd.RangeIndex(stop=df.shape[0]) + 1\n",
    "display(df)\n",
    "print('Best personality feature model:', best_personality_feature_model)"
   ]
  },
  {
   "cell_type": "code",
   "execution_count": 146,
   "metadata": {},
   "outputs": [
    {
     "name": "stdout",
     "output_type": "stream",
     "text": [
      "w1: -56546.304\n"
     ]
    }
   ],
   "source": [
    "# Huấn luyện lại mô hình best_personality_feature_model với đặc trưng tốt nhất trên toàn bộ tập huấn luyện\n",
    "f_train_1b = X_train.loc[:, [best_personality_feature_model]]\n",
    "f_test_1b = X_test.loc[:, [best_personality_feature_model]]\n",
    "y_predict_test_1b, lr_1b = train_1(f_train_1b, f_test_1b, y_train)\n",
    "printweight(lr_1b)\n"
   ]
  },
  {
   "cell_type": "code",
   "execution_count": 147,
   "metadata": {},
   "outputs": [
    {
     "name": "stdout",
     "output_type": "stream",
     "text": [
      "MAE: 291019.69318933337\n"
     ]
    }
   ],
   "source": [
    "# Gọi hàm MAE (tự cài đặt hoặc từ thư viện) trên tập kiểm tra với mô hình best_personality_feature_model\n",
    "mae_1b =  mae(y_test, y_predict_test_1b)\n",
    "print('MAE:', mae_1b)"
   ]
  },
  {
   "attachments": {},
   "cell_type": "markdown",
   "metadata": {},
   "source": [
    "Công thức hồi quy (phần trọng số làm tròn đến 3 chữ số thập phân, ví dụ 0.012345 $\\to$ 0.012)\n",
    "\n",
    "$$\\text{Salary} = (-56546.304)*nueroticism$$"
   ]
  },
  {
   "cell_type": "markdown",
   "metadata": {},
   "source": [
    "# Yêu cầu 1c: Xây dựng mô hình sử dụng duy nhất 1 đặc trưng `English`, `Logical`, `Quant`, tìm mô hình cho kết quả tốt nhất (1 điểm)"
   ]
  },
  {
   "cell_type": "markdown",
   "metadata": {},
   "source": [
    "Lưu ý: khi sử dụng cross-validation, sinh viên cần xáo trộn dữ liệu 1 lần duy nhất và thực hiện trên toàn bộ đặc trưng"
   ]
  },
  {
   "cell_type": "code",
   "execution_count": 148,
   "metadata": {},
   "outputs": [
    {
     "data": {
      "text/html": [
       "<div>\n",
       "<style scoped>\n",
       "    .dataframe tbody tr th:only-of-type {\n",
       "        vertical-align: middle;\n",
       "    }\n",
       "\n",
       "    .dataframe tbody tr th {\n",
       "        vertical-align: top;\n",
       "    }\n",
       "\n",
       "    .dataframe thead th {\n",
       "        text-align: right;\n",
       "    }\n",
       "</style>\n",
       "<table border=\"1\" class=\"dataframe\">\n",
       "  <thead>\n",
       "    <tr style=\"text-align: right;\">\n",
       "      <th></th>\n",
       "      <th>Feature Name</th>\n",
       "      <th>MAE</th>\n",
       "    </tr>\n",
       "  </thead>\n",
       "  <tbody>\n",
       "    <tr>\n",
       "      <th>1</th>\n",
       "      <td>English</td>\n",
       "      <td>121913.655721</td>\n",
       "    </tr>\n",
       "    <tr>\n",
       "      <th>2</th>\n",
       "      <td>Logical</td>\n",
       "      <td>120345.220285</td>\n",
       "    </tr>\n",
       "    <tr>\n",
       "      <th>3</th>\n",
       "      <td>Quant</td>\n",
       "      <td>118265.099776</td>\n",
       "    </tr>\n",
       "  </tbody>\n",
       "</table>\n",
       "</div>"
      ],
      "text/plain": [
       "  Feature Name            MAE\n",
       "1      English  121913.655721\n",
       "2      Logical  120345.220285\n",
       "3        Quant  118265.099776"
      ]
     },
     "metadata": {},
     "output_type": "display_data"
    },
    {
     "name": "stdout",
     "output_type": "stream",
     "text": [
      "Best skill feature model: Quant\n"
     ]
    }
   ],
   "source": [
    "# Phần code cho yêu cầu 1c\n",
    "# Tìm ra đặc trưng tốt nhất\n",
    "# In ra các kết quả cross-validation như yêu cầu\n",
    "feature_1c = ['English','Logical','Quant','Salary']\n",
    "train_1c = train.loc[:, feature_1c].sample(frac=1).reset_index(drop=True)\n",
    "X_train_1c = train_1c.iloc[:, :-1]\n",
    "y_train_1c = train_1c.iloc[:, -1]\n",
    "mae_arr_1c, best_skill_feature_model = kfold(X_train_1c, y_train_1c, 5)\n",
    "data = {'Feature Name': feature_1c[:-1], 'MAE': mae_arr_1c}\n",
    "df = pd.DataFrame(data)\n",
    "df.index = pd.RangeIndex(stop=df.shape[0]) + 1\n",
    "display(df)\n",
    "print('Best skill feature model:', best_skill_feature_model)"
   ]
  },
  {
   "cell_type": "code",
   "execution_count": 149,
   "metadata": {},
   "outputs": [
    {
     "name": "stdout",
     "output_type": "stream",
     "text": [
      "w1: 585.895\n"
     ]
    }
   ],
   "source": [
    "# Huấn luyện lại mô hình best_skill_feature_model với đặc trưng tốt nhất trên toàn bộ tập huấn luyện\n",
    "f_train_1c = X_train.loc[:, [best_skill_feature_model]]\n",
    "f_test_1c = X_test.loc[:, [best_skill_feature_model]]\n",
    "y_predict_test_1c, lr_1c = train_1(f_train_1c, f_test_1c, y_train)\n",
    "printweight(lr_1c)"
   ]
  },
  {
   "cell_type": "code",
   "execution_count": 150,
   "metadata": {},
   "outputs": [
    {
     "name": "stdout",
     "output_type": "stream",
     "text": [
      "MAE: 106819.57762533335\n"
     ]
    }
   ],
   "source": [
    "# Gọi hàm MAE (tự cài đặt hoặc từ thư viện) trên tập kiểm tra với mô hình best_skill_feature_model\n",
    "mae_1c =  mae(y_test, y_predict_test_1c)\n",
    "print('MAE:', mae_1c)"
   ]
  },
  {
   "attachments": {},
   "cell_type": "markdown",
   "metadata": {},
   "source": [
    "Công thức hồi quy (phần trọng số làm tròn đến 3 chữ số thập phân, ví dụ 0.012345 $\\to$ 0.012)\n",
    "\n",
    "$$\\text{Salary} = 585.895*Quant$$"
   ]
  },
  {
   "cell_type": "markdown",
   "metadata": {},
   "source": [
    "# Yêu cầu 1d: Sinh viên tự xây dựng mô hình, tìm mô hình cho kết quả tốt nhất (3 điểm)"
   ]
  },
  {
   "cell_type": "markdown",
   "metadata": {},
   "source": [
    "Lưu ý: khi sử dụng cross-validation, sinh viên cần xáo trộn dữ liệu 1 lần duy nhất và thực hiện trên toàn bộ $m$ mô hình mà sinh viên thiết kế"
   ]
  },
  {
   "cell_type": "markdown",
   "metadata": {},
   "source": [
    "## Tìm mô hình"
   ]
  },
  {
   "cell_type": "code",
   "execution_count": 204,
   "metadata": {},
   "outputs": [
    {
     "data": {
      "text/html": [
       "<div>\n",
       "<style scoped>\n",
       "    .dataframe tbody tr th:only-of-type {\n",
       "        vertical-align: middle;\n",
       "    }\n",
       "\n",
       "    .dataframe tbody tr th {\n",
       "        vertical-align: top;\n",
       "    }\n",
       "\n",
       "    .dataframe thead th {\n",
       "        text-align: right;\n",
       "    }\n",
       "</style>\n",
       "<table border=\"1\" class=\"dataframe\">\n",
       "  <thead>\n",
       "    <tr style=\"text-align: right;\">\n",
       "      <th></th>\n",
       "      <th>Feature Name</th>\n",
       "      <th>MAE</th>\n",
       "    </tr>\n",
       "  </thead>\n",
       "  <tbody>\n",
       "    <tr>\n",
       "      <th>1</th>\n",
       "      <td>Gender</td>\n",
       "      <td>150490.539245</td>\n",
       "    </tr>\n",
       "    <tr>\n",
       "      <th>2</th>\n",
       "      <td>10percentage</td>\n",
       "      <td>119007.839359</td>\n",
       "    </tr>\n",
       "    <tr>\n",
       "      <th>3</th>\n",
       "      <td>12percentage</td>\n",
       "      <td>120142.226628</td>\n",
       "    </tr>\n",
       "    <tr>\n",
       "      <th>4</th>\n",
       "      <td>CollegeTier</td>\n",
       "      <td>133602.488494</td>\n",
       "    </tr>\n",
       "    <tr>\n",
       "      <th>5</th>\n",
       "      <td>Degree</td>\n",
       "      <td>137556.983498</td>\n",
       "    </tr>\n",
       "    <tr>\n",
       "      <th>6</th>\n",
       "      <td>collegeGPA</td>\n",
       "      <td>121590.847634</td>\n",
       "    </tr>\n",
       "    <tr>\n",
       "      <th>7</th>\n",
       "      <td>CollegeCityTier</td>\n",
       "      <td>251756.493443</td>\n",
       "    </tr>\n",
       "    <tr>\n",
       "      <th>8</th>\n",
       "      <td>English</td>\n",
       "      <td>121987.765135</td>\n",
       "    </tr>\n",
       "    <tr>\n",
       "      <th>9</th>\n",
       "      <td>Logical</td>\n",
       "      <td>120375.764674</td>\n",
       "    </tr>\n",
       "    <tr>\n",
       "      <th>10</th>\n",
       "      <td>Quant</td>\n",
       "      <td>118224.571054</td>\n",
       "    </tr>\n",
       "    <tr>\n",
       "      <th>11</th>\n",
       "      <td>Domain</td>\n",
       "      <td>175483.905410</td>\n",
       "    </tr>\n",
       "    <tr>\n",
       "      <th>12</th>\n",
       "      <td>ComputerProgramming</td>\n",
       "      <td>156191.798358</td>\n",
       "    </tr>\n",
       "    <tr>\n",
       "      <th>13</th>\n",
       "      <td>ElectronicsAndSemicon</td>\n",
       "      <td>257456.505234</td>\n",
       "    </tr>\n",
       "    <tr>\n",
       "      <th>14</th>\n",
       "      <td>ComputerScience</td>\n",
       "      <td>268517.017107</td>\n",
       "    </tr>\n",
       "    <tr>\n",
       "      <th>15</th>\n",
       "      <td>MechanicalEngg</td>\n",
       "      <td>297416.976923</td>\n",
       "    </tr>\n",
       "    <tr>\n",
       "      <th>16</th>\n",
       "      <td>ElectricalEngg</td>\n",
       "      <td>301167.281866</td>\n",
       "    </tr>\n",
       "    <tr>\n",
       "      <th>17</th>\n",
       "      <td>TelecomEngg</td>\n",
       "      <td>290897.298876</td>\n",
       "    </tr>\n",
       "    <tr>\n",
       "      <th>18</th>\n",
       "      <td>CivilEngg</td>\n",
       "      <td>306178.127763</td>\n",
       "    </tr>\n",
       "    <tr>\n",
       "      <th>19</th>\n",
       "      <td>conscientiousness</td>\n",
       "      <td>306121.495212</td>\n",
       "    </tr>\n",
       "    <tr>\n",
       "      <th>20</th>\n",
       "      <td>agreeableness</td>\n",
       "      <td>300693.782604</td>\n",
       "    </tr>\n",
       "    <tr>\n",
       "      <th>21</th>\n",
       "      <td>extraversion</td>\n",
       "      <td>306925.687203</td>\n",
       "    </tr>\n",
       "    <tr>\n",
       "      <th>22</th>\n",
       "      <td>nueroticism</td>\n",
       "      <td>299273.225784</td>\n",
       "    </tr>\n",
       "    <tr>\n",
       "      <th>23</th>\n",
       "      <td>openess_to_experience</td>\n",
       "      <td>302897.623999</td>\n",
       "    </tr>\n",
       "  </tbody>\n",
       "</table>\n",
       "</div>"
      ],
      "text/plain": [
       "             Feature Name            MAE\n",
       "1                  Gender  150490.539245\n",
       "2            10percentage  119007.839359\n",
       "3            12percentage  120142.226628\n",
       "4             CollegeTier  133602.488494\n",
       "5                  Degree  137556.983498\n",
       "6              collegeGPA  121590.847634\n",
       "7         CollegeCityTier  251756.493443\n",
       "8                 English  121987.765135\n",
       "9                 Logical  120375.764674\n",
       "10                  Quant  118224.571054\n",
       "11                 Domain  175483.905410\n",
       "12    ComputerProgramming  156191.798358\n",
       "13  ElectronicsAndSemicon  257456.505234\n",
       "14        ComputerScience  268517.017107\n",
       "15         MechanicalEngg  297416.976923\n",
       "16         ElectricalEngg  301167.281866\n",
       "17            TelecomEngg  290897.298876\n",
       "18              CivilEngg  306178.127763\n",
       "19      conscientiousness  306121.495212\n",
       "20          agreeableness  300693.782604\n",
       "21           extraversion  306925.687203\n",
       "22            nueroticism  299273.225784\n",
       "23  openess_to_experience  302897.623999"
      ]
     },
     "metadata": {},
     "output_type": "display_data"
    },
    {
     "name": "stdout",
     "output_type": "stream",
     "text": [
      "Best feature: Quant\n"
     ]
    }
   ],
   "source": [
    "MAE_arr, best_feature = kfold(X_train, y_train, 5)\n",
    "SortedFeatures = df.sort_values([\"MAE\"], ignore_index=True)\n",
    "data = {'Feature Name': X_train.columns, 'MAE': MAE_arr}\n",
    "df = pd.DataFrame(data)\n",
    "df.index = pd.RangeIndex(stop=df.shape[0]) + 1\n",
    "SortedFeatures = df.sort_values([\"MAE\"], ignore_index=True)\n",
    "display(df)\n",
    "print('Best feature:', best_feature)"
   ]
  },
  {
   "cell_type": "code",
   "execution_count": 243,
   "metadata": {},
   "outputs": [],
   "source": [
    "# Trình bày các phần tìm ra mô hình\n",
    "\n",
    "# Chọn các đặc trưng dựa trên mae: chọn các đặc trưng cho mae dưới 160000\n",
    "best_feature_1d = ['Quant', '10percentage', '12percentage', 'Logical', 'collegeGPA', 'English', 'CollegeTier', 'Degree', 'ComputerProgramming', 'Salary']\n",
    "# Mô hình gốc\n",
    "X0_train_1d = train.loc[:, best_feature_1d]\n",
    "\n",
    "# Mô hình có đặc trưng tốt nhất bình phương\n",
    "X1_train_1d = train.loc[:, best_feature_1d]\n",
    "X1_train_1d['Quant'] = X1_train_1d['Quant'] ** 2\n",
    "\n",
    "# Mô hình có đặc trưng tốt nhất mũ 1/2\n",
    "X2_train_1d = train.loc[:, best_feature_1d]\n",
    "X2_train_1d['Quant'] = X2_train_1d['Quant'] ** 0.5\n",
    "\n",
    "# Mô hình có đặc trưng tốt nhất mũ 1/4\n",
    "X3_train_1d = train.loc[:, best_feature_1d]\n",
    "X3_train_1d['Quant'] = X3_train_1d['Quant'] ** 0.25\n",
    "\n",
    "ModelNames = pd.Series([\n",
    "    \"Mô hình gốc\",\n",
    "    \"Mô hình có đặc trưng tốt nhất bình phương\",\n",
    "    \"Mô hình có đặc trưng tốt nhất mũ 1/2\",\n",
    "    \"Mô hình có đặc trưng tốt nhất mũ 1/4\",\n",
    "])\n",
    "\n",
    "ModelData = [\n",
    "    X0_train_1d,\n",
    "    X1_train_1d,\n",
    "    X2_train_1d,\n",
    "    X3_train_1d\n",
    "]\n"
   ]
  },
  {
   "cell_type": "markdown",
   "metadata": {},
   "source": [
    "## Thử nghiệm, so sánh các mô hình"
   ]
  },
  {
   "cell_type": "code",
   "execution_count": 244,
   "metadata": {},
   "outputs": [
    {
     "data": {
      "text/html": [
       "<div>\n",
       "<style scoped>\n",
       "    .dataframe tbody tr th:only-of-type {\n",
       "        vertical-align: middle;\n",
       "    }\n",
       "\n",
       "    .dataframe tbody tr th {\n",
       "        vertical-align: top;\n",
       "    }\n",
       "\n",
       "    .dataframe thead th {\n",
       "        text-align: right;\n",
       "    }\n",
       "</style>\n",
       "<table border=\"1\" class=\"dataframe\">\n",
       "  <thead>\n",
       "    <tr style=\"text-align: right;\">\n",
       "      <th></th>\n",
       "      <th>Model Name</th>\n",
       "      <th>MAE</th>\n",
       "    </tr>\n",
       "  </thead>\n",
       "  <tbody>\n",
       "    <tr>\n",
       "      <th>1</th>\n",
       "      <td>Mô hình gốc</td>\n",
       "      <td>127631.142759</td>\n",
       "    </tr>\n",
       "    <tr>\n",
       "      <th>2</th>\n",
       "      <td>Mô hình có đặc trưng tốt nhất bình phương</td>\n",
       "      <td>129231.720815</td>\n",
       "    </tr>\n",
       "    <tr>\n",
       "      <th>3</th>\n",
       "      <td>Mô hình có đặc trưng tốt nhất mũ 1/2</td>\n",
       "      <td>127553.420557</td>\n",
       "    </tr>\n",
       "    <tr>\n",
       "      <th>4</th>\n",
       "      <td>Mô hình có đặc trưng tốt nhất mũ 1/4</td>\n",
       "      <td>127765.505828</td>\n",
       "    </tr>\n",
       "  </tbody>\n",
       "</table>\n",
       "</div>"
      ],
      "text/plain": [
       "                                  Model Name            MAE\n",
       "1                                Mô hình gốc  127631.142759\n",
       "2  Mô hình có đặc trưng tốt nhất bình phương  129231.720815\n",
       "3       Mô hình có đặc trưng tốt nhất mũ 1/2  127553.420557\n",
       "4       Mô hình có đặc trưng tốt nhất mũ 1/4  127765.505828"
      ]
     },
     "metadata": {},
     "output_type": "display_data"
    },
    {
     "name": "stdout",
     "output_type": "stream",
     "text": [
      "My best model: Mô hình có đặc trưng tốt nhất mũ 1/2\n"
     ]
    }
   ],
   "source": [
    "# Phần code cho yêu cầu 1d\n",
    "# Tìm ra mô hình tốt nhất (tự thiết kế bởi sinh viên)\n",
    "# In ra các kết quả cross-validation như yêu cầu\n",
    "mae_arr_1d = []\n",
    "train_1d = train.sample(frac=1).reset_index(drop=True)\n",
    "for data in ModelData:\n",
    "    X_feature_1d = data.iloc[:, :-1]\n",
    "    y_feature_1d = data.iloc[:, -1]\n",
    "    mae_arr, _ = kfold(X_feature_1d, y_feature_1d, 5)\n",
    "    mae_arr_1d.append(np.mean(mae_arr))\n",
    "\n",
    "my_best_model = ModelNames[np.argmin(mae_arr_1d)]\n",
    "data = {'Model Name': ModelNames, 'MAE': mae_arr_1d}\n",
    "df = pd.DataFrame(data)\n",
    "df.index = pd.RangeIndex(stop=df.shape[0]) + 1\n",
    "display(df)\n",
    "print('My best model:', my_best_model)"
   ]
  },
  {
   "cell_type": "code",
   "execution_count": 253,
   "metadata": {},
   "outputs": [
    {
     "name": "stdout",
     "output_type": "stream",
     "text": [
      "w1: 6211.129\n",
      "w2: 565.568\n",
      "w3: 1066.678\n",
      "w4: 138.269\n",
      "w5: 945.317\n",
      "w6: 131.441\n",
      "w7: -102989.132\n",
      "w8: 9029.608\n",
      "w9: 85.731\n"
     ]
    }
   ],
   "source": [
    "# Huấn luyện lại mô hình my_best_model trên toàn bộ tập huấn luyện\n",
    "X_test_1d = test.loc[:, best_feature_1d]\n",
    "X_test_1d['Quant'] = X_test_1d['Quant'] ** 0.5\n",
    "y_predict_test_1d, lr_1d = train_1(X2_train_1d.iloc[:, :-1], X_test_1d.iloc[:, :-1], y_train)\n",
    "printweight(lr_1d)"
   ]
  },
  {
   "cell_type": "code",
   "execution_count": 250,
   "metadata": {},
   "outputs": [
    {
     "name": "stdout",
     "output_type": "stream",
     "text": [
      "MAE: 104776.914\n"
     ]
    }
   ],
   "source": [
    "# Gọi hàm MAE (tự cài đặt hoặc từ thư viện) trên tập kiểm tra với mô hình my_best_model\n",
    "mae_1d =  mae(y_test, y_predict_test_1d)\n",
    "print('MAE:', round(mae_1d, 3))"
   ]
  },
  {
   "attachments": {},
   "cell_type": "markdown",
   "metadata": {},
   "source": [
    "Công thức hồi quy (phần trọng số làm tròn đến 3 chữ số thập phân, ví dụ 0.012345 $\\to$ 0.012)\n",
    "\n",
    "$$\\text{Salary} = 6211.129*Quant + 565.568*10percentage + 1066.678*12percentage + 138.269*Logical +945.317*collegeGPA + 131.441*English \\\\ + (-102989.132)*CollegeTier + 9029.608*Degree + 85.731*ComputerProgramming$$"
   ]
  }
 ],
 "metadata": {
  "kernelspec": {
   "display_name": "Python 3.8.5 ('base')",
   "language": "python",
   "name": "python3"
  },
  "language_info": {
   "codemirror_mode": {
    "name": "ipython",
    "version": 3
   },
   "file_extension": ".py",
   "mimetype": "text/x-python",
   "name": "python",
   "nbconvert_exporter": "python",
   "pygments_lexer": "ipython3",
   "version": "3.11.0"
  },
  "orig_nbformat": 4,
  "vscode": {
   "interpreter": {
    "hash": "15af99fd1a1a3f0a3416ea421564e792a8676a13670c2eed127d89ab0518a27b"
   }
  }
 },
 "nbformat": 4,
 "nbformat_minor": 2
}
